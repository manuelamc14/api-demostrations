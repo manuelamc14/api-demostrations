{
 "cells": [
  {
   "cell_type": "markdown",
   "metadata": {},
   "source": [
    "# WeatherPy\n",
    "----"
   ]
  },
  {
   "cell_type": "code",
   "execution_count": 39,
   "metadata": {
    "scrolled": true
   },
   "outputs": [],
   "source": [
    "# Dependencies and Setup\n",
    "import matplotlib.pyplot as plt\n",
    "import pandas as pd\n",
    "import numpy as np\n",
    "import requests\n",
    "import time\n",
    "from scipy.stats import linregress\n",
    "import json\n",
    "\n",
    "# Import API key\n",
    "from api_keys import weather_api_key\n",
    "\n",
    "# Incorporated citipy to determine city based on latitude and longitude\n",
    "from citipy import citipy\n",
    "\n",
    "# Output File (CSV)\n",
    "output_data_file = \"cities.csv\"\n",
    "\n",
    "# Range of latitudes and longitudes\n",
    "lat_range = (-90, 90)\n",
    "lng_range = (-180, 180)"
   ]
  },
  {
   "cell_type": "markdown",
   "metadata": {},
   "source": [
    "## Generate Cities List"
   ]
  },
  {
   "cell_type": "code",
   "execution_count": 23,
   "metadata": {},
   "outputs": [
    {
     "data": {
      "text/plain": [
       "597"
      ]
     },
     "execution_count": 23,
     "metadata": {},
     "output_type": "execute_result"
    }
   ],
   "source": [
    "# List for holding lat_lngs and cities\n",
    "lat_lngs = []\n",
    "cities = []\n",
    "\n",
    "# Create a set of random lat and lng combinations\n",
    "lats = np.random.uniform(lat_range[0], lat_range[1], size=1500)\n",
    "lngs = np.random.uniform(lng_range[0], lng_range[1], size=1500)\n",
    "lat_lngs = zip(lats, lngs)\n",
    "\n",
    "# Identify nearest city for each lat, lng combination\n",
    "for lat_lng in lat_lngs:\n",
    "    city = citipy.nearest_city(lat_lng[0], lat_lng[1]).city_name\n",
    "    \n",
    "    # If the city is unique, then add it to a our cities list\n",
    "    if city not in cities:\n",
    "        cities.append(city)\n",
    "\n",
    "# Print the city count to confirm sufficient count\n",
    "len(cities)"
   ]
  },
  {
   "cell_type": "markdown",
   "metadata": {},
   "source": [
    "### Perform API Calls"
   ]
  },
  {
   "cell_type": "code",
   "execution_count": 29,
   "metadata": {},
   "outputs": [],
   "source": [
    "# Elements to perform an API Call\n",
    "\n",
    "url = \"http://api.openweathermap.org/data/2.5/weather?q=\"\n",
    "units = \"imperial\""
   ]
  },
  {
   "cell_type": "code",
   "execution_count": 30,
   "metadata": {},
   "outputs": [],
   "source": [
    "# Create a list for city ID based on the number of cities\n",
    "\n",
    "city_id = [x for x in range(len(cities))]\n",
    "\n",
    "# Create empty lists to store the information\n",
    "\n",
    "cloudiness = []\n",
    "country = []\n",
    "date = []\n",
    "humidity = []\n",
    "lat = []\n",
    "lng = []\n",
    "temp = []\n",
    "wind_speed = []"
   ]
  },
  {
   "cell_type": "code",
   "execution_count": 31,
   "metadata": {},
   "outputs": [
    {
     "name": "stdout",
     "output_type": "stream",
     "text": [
      "Beginning Data Retrieval\n",
      "-----------------------------\n",
      "Processing Record 1 | New Norfolk\n",
      "Processing Record 2 | Kaniama\n",
      "Processing Record 3 | Vestmannaeyjar\n",
      "Processing Record 4 | Pacific Grove\n",
      "City not found. Skipping...\n",
      "Processing Record 6 | Nemuro\n",
      "Processing Record 7 | Solnechnyy\n",
      "Processing Record 8 | Cape Town\n",
      "Processing Record 9 | Boden\n",
      "City not found. Skipping...\n",
      "Processing Record 11 | Chichigalpa\n",
      "Processing Record 12 | Ushuaia\n",
      "Processing Record 13 | Gladstone\n",
      "Processing Record 14 | Deputatskiy\n",
      "Processing Record 15 | Kahului\n",
      "Processing Record 16 | Methoni\n",
      "Processing Record 17 | Hilo\n",
      "Processing Record 18 | Albany\n",
      "Processing Record 19 | Hobart\n",
      "Processing Record 20 | Laguna\n",
      "Processing Record 21 | Victoria\n",
      "Processing Record 22 | Hithadhoo\n",
      "Processing Record 23 | Alushta\n",
      "Processing Record 24 | Qaanaaq\n",
      "Processing Record 25 | Dno\n",
      "Processing Record 26 | Asfi\n",
      "Processing Record 27 | Arraial Do Cabo\n",
      "Processing Record 28 | Homer\n",
      "Processing Record 29 | Rikitea\n",
      "Processing Record 30 | Busselton\n",
      "Processing Record 31 | Quang Ngai\n",
      "Processing Record 32 | Awjilah\n",
      "Processing Record 33 | Dutlwe\n",
      "Processing Record 34 | Tasiilaq\n",
      "Processing Record 35 | Namibe\n",
      "Processing Record 36 | Saskylakh\n",
      "City not found. Skipping...\n",
      "Processing Record 38 | Mabaruma\n",
      "Processing Record 39 | Qaqortoq\n",
      "Processing Record 40 | Black River\n",
      "Processing Record 41 | Luderitz\n",
      "Processing Record 42 | Bluff\n",
      "Processing Record 43 | Atuona\n",
      "Processing Record 44 | Punta Arenas\n",
      "Processing Record 45 | Oskemen\n",
      "Processing Record 46 | Padang\n",
      "Processing Record 47 | Husavik\n",
      "Processing Record 48 | Bethel\n",
      "City not found. Skipping...\n",
      "Processing Record 50 | Belmonte\n",
      "City not found. Skipping...\n",
      "Processing Record 52 | Kruisfontein\n",
      "Processing Record 53 | Avarua\n",
      "Processing Record 54 | Chumikan\n",
      "Processing Record 55 | Mareeba\n",
      "Processing Record 56 | Chokurdakh\n",
      "Processing Record 57 | Jacareacanga\n",
      "Processing Record 58 | Saldanha\n",
      "Processing Record 59 | Dikson\n",
      "Processing Record 60 | Sitka\n",
      "Processing Record 61 | Port Said\n",
      "Processing Record 62 | Snina\n",
      "Processing Record 63 | Kapaa\n",
      "Processing Record 64 | Plum\n",
      "Processing Record 65 | Najran\n",
      "Processing Record 66 | Tuktoyaktuk\n",
      "Processing Record 67 | Inuvik\n",
      "City not found. Skipping...\n",
      "Processing Record 69 | Kodiak\n",
      "Processing Record 70 | East London\n",
      "Processing Record 71 | Kenai\n",
      "Processing Record 72 | Bukama\n",
      "Processing Record 73 | Klaksvik\n",
      "Processing Record 74 | Pisco\n",
      "Processing Record 75 | Kargil\n",
      "Processing Record 76 | Yining\n",
      "Processing Record 77 | Jamestown\n",
      "Processing Record 78 | Nishihara\n",
      "Processing Record 79 | Port Elizabeth\n",
      "Processing Record 80 | Neaua\n",
      "Processing Record 81 | Tiznit\n",
      "City not found. Skipping...\n",
      "Processing Record 83 | Mar Del Plata\n",
      "Processing Record 84 | Kavieng\n",
      "Processing Record 85 | Cidreira\n",
      "Processing Record 86 | Nouadhibou\n",
      "Processing Record 87 | Bredasdorp\n",
      "Processing Record 88 | Jilib\n",
      "Processing Record 89 | Sosnogorsk\n",
      "Processing Record 90 | Gouyave\n",
      "Processing Record 91 | Brigantine\n",
      "Processing Record 92 | Henties Bay\n",
      "Processing Record 93 | Ambon\n",
      "Processing Record 94 | Koryukivka\n",
      "Processing Record 95 | Hermanus\n",
      "Processing Record 96 | Kurilsk\n",
      "Processing Record 97 | Butaritari\n",
      "Processing Record 98 | Quelimane\n",
      "Processing Record 99 | Carnarvon\n",
      "Processing Record 100 | Faanui\n",
      "Processing Record 101 | Sovetskaya Gavan\n",
      "Processing Record 102 | Port Hawkesbury\n",
      "Processing Record 103 | Kudahuvadhoo\n",
      "Processing Record 104 | Torbay\n",
      "Processing Record 105 | Mayo\n",
      "Processing Record 106 | Vaini\n",
      "Processing Record 107 | Ribeira Grande\n",
      "Processing Record 108 | Geraldton\n",
      "Processing Record 109 | Tongliao\n",
      "Processing Record 110 | Katsuura\n",
      "Processing Record 111 | Fereydun Kenar\n",
      "Processing Record 112 | Obo\n",
      "Processing Record 113 | Tessalit\n",
      "City not found. Skipping...\n",
      "Processing Record 115 | Lucapa\n",
      "Processing Record 116 | Macamic\n",
      "Processing Record 117 | La Ronge\n",
      "Processing Record 118 | Gravdal\n",
      "Processing Record 119 | Shimoda\n",
      "Processing Record 120 | Sao Joao Da Barra\n",
      "Processing Record 121 | Nikolskoye\n",
      "Processing Record 122 | Broome\n",
      "Processing Record 123 | Poum\n",
      "Processing Record 124 | Fortuna\n",
      "Processing Record 125 | Umtata\n",
      "Processing Record 126 | Rio Gallegos\n",
      "Processing Record 127 | Kincardine\n",
      "Processing Record 128 | Iqaluit\n",
      "City not found. Skipping...\n",
      "City not found. Skipping...\n",
      "Processing Record 131 | Longyearbyen\n",
      "Processing Record 132 | Palembang\n",
      "Processing Record 133 | Bengkulu\n",
      "Processing Record 134 | Saint-Philippe\n",
      "Processing Record 135 | Chuy\n",
      "Processing Record 136 | Matara\n",
      "Processing Record 137 | Tuatapere\n",
      "Processing Record 138 | Gornozavodsk\n",
      "Processing Record 139 | Piacabucu\n",
      "Processing Record 140 | Beyneu\n",
      "Processing Record 141 | Hudson Bay\n",
      "Processing Record 142 | Clyde River\n",
      "Processing Record 143 | Port Alfred\n",
      "Processing Record 144 | Sabang\n",
      "Processing Record 145 | Lorengau\n",
      "Processing Record 146 | Khor\n",
      "Processing Record 147 | Saint-Francois\n",
      "Processing Record 148 | Sinnamary\n",
      "Processing Record 149 | Saint Anthony\n",
      "Processing Record 150 | Talnakh\n",
      "Processing Record 151 | Castro\n",
      "Processing Record 152 | Arman\n",
      "Processing Record 153 | Sur\n",
      "Processing Record 154 | Mecca\n",
      "Processing Record 155 | Vila Do Maio\n",
      "Processing Record 156 | Mataura\n",
      "Processing Record 157 | Georgetown\n",
      "Processing Record 158 | Devonport\n",
      "Processing Record 159 | Ancud\n",
      "Processing Record 160 | Cabo San Lucas\n",
      "Processing Record 161 | Norman Wells\n",
      "Processing Record 162 | Boa Vista\n",
      "Processing Record 163 | Ostrovnoy\n",
      "Processing Record 164 | Vao\n",
      "Processing Record 165 | Lagoa\n",
      "Processing Record 166 | Pevek\n",
      "Processing Record 167 | Gerash\n",
      "Processing Record 168 | Beloha\n",
      "City not found. Skipping...\n",
      "Processing Record 170 | Anloga\n",
      "Processing Record 171 | Beringovskiy\n",
      "Processing Record 172 | Leningradskiy\n",
      "Processing Record 173 | Yuanping\n",
      "Processing Record 174 | Coxquihui\n",
      "Processing Record 175 | Kurtamysh\n",
      "Processing Record 176 | Uhlove\n",
      "Processing Record 177 | Yulara\n",
      "Processing Record 178 | Abilene\n",
      "Processing Record 179 | Naples\n",
      "Processing Record 180 | Nyurba\n",
      "Processing Record 181 | Satun\n",
      "Processing Record 182 | Sinjai\n",
      "Processing Record 183 | Kuytun\n",
      "Processing Record 184 | Klyuchi\n",
      "City not found. Skipping...\n",
      "Processing Record 186 | Srandakan\n",
      "Processing Record 187 | Valparaiso\n",
      "Processing Record 188 | Thompson\n",
      "Processing Record 189 | Cherskiy\n",
      "Processing Record 190 | Flin Flon\n",
      "Processing Record 191 | Zahvizdya\n",
      "Processing Record 192 | Provideniya\n",
      "City not found. Skipping...\n",
      "Processing Record 194 | Katangli\n",
      "City not found. Skipping...\n",
      "Processing Record 196 | Pangnirtung\n",
      "Processing Record 197 | Banda Aceh\n",
      "Processing Record 198 | Grindavik\n",
      "Processing Record 199 | Koumac\n",
      "Processing Record 200 | Viedma\n",
      "Processing Record 201 | Mandalgovi\n",
      "Processing Record 202 | Sompeta\n",
      "Processing Record 203 | Puri\n",
      "City not found. Skipping...\n",
      "Processing Record 205 | Lermontovka\n",
      "Processing Record 206 | Dunedin\n",
      "Processing Record 207 | Cordoba\n",
      "Processing Record 208 | Omsukchan\n",
      "City not found. Skipping...\n",
      "Processing Record 210 | Sarangani\n",
      "City not found. Skipping...\n",
      "Processing Record 212 | Lebu\n",
      "Processing Record 213 | Santa Rosa\n",
      "Processing Record 214 | Zaysan\n",
      "Processing Record 215 | Killybegs\n",
      "Processing Record 216 | Ahome\n",
      "City not found. Skipping...\n",
      "Processing Record 218 | Severo-Kurilsk\n",
      "Processing Record 219 | La Maddalena\n",
      "Processing Record 220 | Mahebourg\n",
      "Processing Record 221 | Kambove\n",
      "Processing Record 222 | Christchurch\n",
      "Processing Record 223 | Tianpeng\n",
      "Processing Record 224 | Sao Filipe\n",
      "Processing Record 225 | Saint-Augustin\n",
      "Processing Record 226 | Rocha\n",
      "City not found. Skipping...\n",
      "Processing Record 228 | Riyadh\n",
      "Processing Record 229 | Hervey Bay\n",
      "Processing Record 230 | Vardo\n",
      "Processing Record 231 | Ust-Nera\n",
      "Processing Record 232 | Lazaro Cardenas\n",
      "Processing Record 233 | Verkhnetulomskiy\n",
      "Processing Record 234 | Prince Rupert\n",
      "Processing Record 235 | Karratha\n",
      "Processing Record 236 | Zonguldak\n",
      "City not found. Skipping...\n",
      "Processing Record 238 | Upernavik\n",
      "Processing Record 239 | Lavrentiya\n",
      "Processing Record 240 | Concarneau\n",
      "Processing Record 241 | Rio Grande City\n",
      "Processing Record 242 | Zhigansk\n",
      "Processing Record 243 | Lata\n",
      "Processing Record 244 | Yellowknife\n",
      "Processing Record 245 | Buala\n",
      "Processing Record 246 | Sechura\n",
      "Processing Record 247 | Torbat-E Jam\n",
      "Processing Record 248 | Colares\n",
      "Processing Record 249 | Airai\n",
      "Processing Record 250 | Ponta Delgada\n",
      "Processing Record 251 | Oda\n"
     ]
    },
    {
     "name": "stdout",
     "output_type": "stream",
     "text": [
      "Processing Record 252 | Buchanan\n",
      "Processing Record 253 | Charters Towers\n",
      "Processing Record 254 | Adet\n",
      "Processing Record 255 | Carutapera\n",
      "Processing Record 256 | Bani Walid\n",
      "Processing Record 257 | Orel-Izumrud\n",
      "Processing Record 258 | Constanta\n",
      "Processing Record 259 | Bambous Virieux\n",
      "City not found. Skipping...\n",
      "Processing Record 261 | Norilsk\n",
      "City not found. Skipping...\n",
      "Processing Record 263 | Pidhaytsi\n",
      "Processing Record 264 | Berlevag\n",
      "Processing Record 265 | Dhangadhi\n",
      "Processing Record 266 | Gamba\n",
      "Processing Record 267 | Sept-Iles\n",
      "Processing Record 268 | Ilulissat\n",
      "Processing Record 269 | Juneau\n",
      "Processing Record 270 | Ketchikan\n",
      "Processing Record 271 | Yanam\n",
      "Processing Record 272 | Lezajsk\n",
      "Processing Record 273 | Sembakung\n",
      "Processing Record 274 | Novoagansk\n",
      "Processing Record 275 | Taitung\n",
      "Processing Record 276 | Kaitangata\n",
      "Processing Record 277 | Miri\n",
      "Processing Record 278 | Narsaq\n",
      "Processing Record 279 | Cabedelo\n",
      "Processing Record 280 | Vostok\n",
      "Processing Record 281 | Ahuimanu\n",
      "Processing Record 282 | Verkhnevilyuysk\n",
      "Processing Record 283 | Jinchang\n",
      "Processing Record 284 | Ishigaki\n",
      "Processing Record 285 | Ahipara\n",
      "Processing Record 286 | Gazanjyk\n",
      "Processing Record 287 | Opuwo\n",
      "Processing Record 288 | Xining\n",
      "Processing Record 289 | Arlit\n",
      "Processing Record 290 | Matagami\n",
      "Processing Record 291 | Oga\n",
      "Processing Record 292 | Bubaque\n",
      "Processing Record 293 | Cockburn Town\n",
      "Processing Record 294 | Ponta Do Sol\n",
      "Processing Record 295 | Colinas\n",
      "City not found. Skipping...\n",
      "Processing Record 297 | Brae\n",
      "Processing Record 298 | Puerto Ayora\n",
      "Processing Record 299 | Kuopio\n",
      "Processing Record 300 | Novovelichkovskaya\n",
      "Processing Record 301 | Minab\n",
      "Processing Record 302 | College\n",
      "Processing Record 303 | Juxtlahuaca\n",
      "Processing Record 304 | Batagay-Alyta\n",
      "Processing Record 305 | Kokkola\n",
      "Processing Record 306 | Bardiyah\n",
      "City not found. Skipping...\n",
      "Processing Record 308 | Chernyshevskiy\n",
      "Processing Record 309 | Mount Gambier\n",
      "Processing Record 310 | Aykhal\n",
      "Processing Record 311 | Sola\n",
      "Processing Record 312 | Camacha\n",
      "Processing Record 313 | Torit\n",
      "Processing Record 314 | Agirish\n",
      "Processing Record 315 | Havre\n",
      "Processing Record 316 | Ranau\n",
      "Processing Record 317 | Lalmohan\n",
      "Processing Record 318 | Port-Cartier\n",
      "Processing Record 319 | Shenjiamen\n",
      "Processing Record 320 | Esperance\n",
      "Processing Record 321 | Rantepao\n",
      "Processing Record 322 | Fairbanks\n",
      "Processing Record 323 | Tacuarembo\n",
      "Processing Record 324 | Santiago Del Estero\n",
      "Processing Record 325 | Talas\n",
      "City not found. Skipping...\n",
      "Processing Record 327 | Nisia Floresta\n",
      "Processing Record 328 | Meulaboh\n",
      "Processing Record 329 | Walvis Bay\n",
      "Processing Record 330 | Port Macquarie\n",
      "Processing Record 331 | Goderich\n",
      "Processing Record 332 | Waingapu\n",
      "City not found. Skipping...\n",
      "Processing Record 334 | Neka\n",
      "Processing Record 335 | Anadyr\n",
      "Processing Record 336 | Tiksi\n",
      "Processing Record 337 | Aklavik\n",
      "Processing Record 338 | Ulaanbaatar\n",
      "Processing Record 339 | Aranos\n",
      "Processing Record 340 | Mehamn\n",
      "Processing Record 341 | Buin\n",
      "Processing Record 342 | Te Anau\n",
      "Processing Record 343 | Porto Novo\n",
      "Processing Record 344 | Maniitsoq\n",
      "Processing Record 345 | Alofi\n",
      "Processing Record 346 | Bandarbeyla\n",
      "Processing Record 347 | Alice Town\n",
      "Processing Record 348 | Harper\n",
      "Processing Record 349 | Dosso\n",
      "Processing Record 350 | Guerrero Negro\n",
      "Processing Record 351 | Pacifica\n",
      "City not found. Skipping...\n",
      "Processing Record 353 | Phuntsholing\n",
      "City not found. Skipping...\n",
      "Processing Record 355 | Fare\n",
      "Processing Record 356 | Sucua\n",
      "Processing Record 357 | Cuajinicuilapa\n",
      "Processing Record 358 | Khonsa\n",
      "Processing Record 359 | Flinders\n",
      "Processing Record 360 | Jining\n",
      "Processing Record 361 | Emet\n",
      "Processing Record 362 | Muros\n",
      "Processing Record 363 | Roald\n",
      "Processing Record 364 | Maldonado\n",
      "City not found. Skipping...\n",
      "Processing Record 366 | Faya\n",
      "Processing Record 367 | Diamantino\n",
      "Processing Record 368 | Waipawa\n",
      "Processing Record 369 | Rabo De Peixe\n",
      "Processing Record 370 | Dali\n",
      "City not found. Skipping...\n",
      "Processing Record 372 | Cap-Aux-Meules\n",
      "Processing Record 373 | Khatanga\n",
      "Processing Record 374 | Hasaki\n",
      "Processing Record 375 | Yenagoa\n",
      "Processing Record 376 | Manggar\n",
      "Processing Record 377 | Necochea\n",
      "Processing Record 378 | Saint George\n",
      "Processing Record 379 | Marawi\n",
      "Processing Record 380 | Smolenka\n",
      "Processing Record 381 | Alvarado\n",
      "Processing Record 382 | Omboue\n",
      "Processing Record 383 | Marzuq\n",
      "Processing Record 384 | Khorixas\n",
      "City not found. Skipping...\n",
      "Processing Record 386 | Chapais\n",
      "Processing Record 387 | Sao Miguel Do Araguaia\n",
      "Processing Record 388 | Lumsden\n",
      "Processing Record 389 | Lake Cowichan\n",
      "Processing Record 390 | Punta Cardon\n",
      "Processing Record 391 | Constitucion\n",
      "Processing Record 392 | Acapulco\n",
      "Processing Record 393 | Samarai\n",
      "City not found. Skipping...\n",
      "Processing Record 395 | Balkanabat\n",
      "Processing Record 396 | Coalinga\n",
      "Processing Record 397 | Atambua\n",
      "Processing Record 398 | Miles City\n",
      "Processing Record 399 | Mahajanga\n",
      "Processing Record 400 | Rambha\n",
      "Processing Record 401 | Gornopravdinsk\n",
      "Processing Record 402 | Kamloops\n",
      "Processing Record 403 | Salta\n",
      "Processing Record 404 | Soyo\n",
      "Processing Record 405 | Payo\n",
      "Processing Record 406 | Deli Tua\n",
      "City not found. Skipping...\n",
      "Processing Record 408 | Mildura\n",
      "Processing Record 409 | Nieuw Amsterdam\n",
      "Processing Record 410 | Kletskaya\n",
      "Processing Record 411 | Lompoc\n",
      "Processing Record 412 | Ankang\n",
      "Processing Record 413 | Coahuayana\n",
      "Processing Record 414 | Oktyabrskiy\n",
      "Processing Record 415 | General Roca\n",
      "Processing Record 416 | Antsohihy\n",
      "Processing Record 417 | Caravelas\n",
      "Processing Record 418 | Beidao\n",
      "Processing Record 419 | Sri Aman\n",
      "Processing Record 420 | Zhanaozen\n",
      "Processing Record 421 | Souillac\n",
      "Processing Record 422 | Merauke\n",
      "Processing Record 423 | Artesia\n",
      "Processing Record 424 | Stepnyak\n",
      "Processing Record 425 | Mingaora\n",
      "Processing Record 426 | Port Lincoln\n",
      "Processing Record 427 | Denpasar\n",
      "Processing Record 428 | Port Hedland\n",
      "Processing Record 429 | Komsomolskiy\n",
      "Processing Record 430 | Mao\n",
      "Processing Record 431 | Moranbah\n",
      "Processing Record 432 | Ostersund\n",
      "Processing Record 433 | Sainte-Thecle\n",
      "Processing Record 434 | Skerries\n",
      "Processing Record 435 | Soltau\n",
      "Processing Record 436 | Vanimo\n",
      "Processing Record 437 | Prokopyevsk\n",
      "Processing Record 438 | Kostomuksha\n",
      "Processing Record 439 | Zeya\n",
      "Processing Record 440 | Barrow\n",
      "Processing Record 441 | Leh\n",
      "Processing Record 442 | Neenah\n",
      "Processing Record 443 | Port Moresby\n",
      "Processing Record 444 | Uvat\n",
      "Processing Record 445 | Toktogul\n",
      "City not found. Skipping...\n",
      "Processing Record 447 | Tura\n",
      "City not found. Skipping...\n",
      "Processing Record 449 | Paamiut\n",
      "Processing Record 450 | Mana\n",
      "Processing Record 451 | Batelov\n",
      "Processing Record 452 | Serdobsk\n",
      "Processing Record 453 | Lukuledi\n",
      "Processing Record 454 | Taoudenni\n",
      "Processing Record 455 | Eureka\n",
      "Processing Record 456 | Machachi\n",
      "Processing Record 457 | Nyaunglebin\n",
      "Processing Record 458 | Hualmay\n",
      "Processing Record 459 | Bodmin\n",
      "Processing Record 460 | Mangrol\n",
      "Processing Record 461 | Kuching\n",
      "Processing Record 462 | Puerto Maldonado\n",
      "Processing Record 463 | Seoul\n",
      "City not found. Skipping...\n",
      "Processing Record 465 | Naze\n",
      "Processing Record 466 | Thinadhoo\n",
      "Processing Record 467 | Chichi\n",
      "City not found. Skipping...\n",
      "Processing Record 469 | Petropavlovsk-Kamchatskiy\n",
      "Processing Record 470 | Marystown\n",
      "Processing Record 471 | Vega De Alatorre\n",
      "Processing Record 472 | Desaguadero\n",
      "Processing Record 473 | Launceston\n",
      "Processing Record 474 | Mundo Nuevo\n",
      "Processing Record 475 | El Vigia\n",
      "Processing Record 476 | Kaseda\n",
      "Processing Record 477 | Balaciu\n",
      "Processing Record 478 | Udachnyy\n",
      "Processing Record 479 | Port Hardy\n",
      "Processing Record 480 | El Sauzal\n",
      "Processing Record 481 | Volgodonsk\n",
      "Processing Record 482 | Sorokino\n",
      "Processing Record 483 | Vila Franca Do Campo\n",
      "City not found. Skipping...\n",
      "Processing Record 485 | Pasighat\n",
      "Processing Record 486 | Teya\n",
      "City not found. Skipping...\n",
      "Processing Record 488 | Oytal\n",
      "Processing Record 489 | Batagay\n",
      "City not found. Skipping...\n",
      "Processing Record 491 | Concordia\n",
      "Processing Record 492 | Chardara\n",
      "Processing Record 493 | Omoa\n",
      "City not found. Skipping...\n",
      "Processing Record 495 | Puerto Del Rosario\n",
      "Processing Record 496 | Iskilip\n",
      "City not found. Skipping...\n",
      "Processing Record 498 | Kieta\n",
      "Processing Record 499 | Louis Trichardt\n",
      "Processing Record 500 | Aitape\n"
     ]
    },
    {
     "name": "stdout",
     "output_type": "stream",
     "text": [
      "Processing Record 501 | Linfen\n",
      "Processing Record 502 | Nuevo Progreso\n",
      "City not found. Skipping...\n",
      "Processing Record 504 | Sydney Mines\n",
      "Processing Record 505 | Ayapel\n",
      "Processing Record 506 | Yanji\n",
      "Processing Record 507 | Barra\n",
      "Processing Record 508 | Mount Isa\n",
      "Processing Record 509 | Ruteng\n",
      "Processing Record 510 | Buique\n",
      "Processing Record 511 | Ankara\n",
      "Processing Record 512 | Axim\n",
      "Processing Record 513 | Kalanchak\n",
      "Processing Record 514 | Genhe\n",
      "Processing Record 515 | Sisimiut\n",
      "Processing Record 516 | Dolores\n",
      "Processing Record 517 | Touros\n",
      "Processing Record 518 | Kendari\n",
      "Processing Record 519 | Silver City\n",
      "Processing Record 520 | Whitehorse\n",
      "City not found. Skipping...\n",
      "Processing Record 522 | Medea\n",
      "Processing Record 523 | Port Blair\n",
      "Processing Record 524 | Trairi\n",
      "Processing Record 525 | Roma\n",
      "Processing Record 526 | Popondetta\n",
      "Processing Record 527 | Miguel Calmon\n",
      "Processing Record 528 | El Alto\n",
      "Processing Record 529 | Jiwani\n",
      "Processing Record 530 | Teshie\n",
      "Processing Record 531 | Grand Gaube\n",
      "Processing Record 532 | Conceicao Do Araguaia\n",
      "Processing Record 533 | Parfenyevo\n",
      "Processing Record 534 | Takoradi\n",
      "Processing Record 535 | Bonavista\n",
      "Processing Record 536 | Nargana\n",
      "Processing Record 537 | Minbu\n",
      "City not found. Skipping...\n",
      "Processing Record 539 | Dingle\n",
      "Processing Record 540 | Raymond\n",
      "Processing Record 541 | Waw\n",
      "Processing Record 542 | Antigonish\n",
      "City not found. Skipping...\n",
      "Processing Record 544 | Half Moon Bay\n",
      "City not found. Skipping...\n",
      "Processing Record 546 | Donskoye\n",
      "Processing Record 547 | Porto Belo\n",
      "City not found. Skipping...\n",
      "Processing Record 549 | Dayong\n",
      "Processing Record 550 | Coquimbo\n",
      "Processing Record 551 | Cayenne\n",
      "Processing Record 552 | Malakal\n",
      "City not found. Skipping...\n",
      "Processing Record 554 | Horlivka\n",
      "Processing Record 555 | Bilibino\n",
      "Processing Record 556 | Nazilli\n",
      "Processing Record 557 | Villa Bruzual\n",
      "Processing Record 558 | Alice Springs\n",
      "Processing Record 559 | Ust-Ordynskiy\n",
      "Processing Record 560 | Sovetskiy\n",
      "Processing Record 561 | Alyangula\n",
      "Processing Record 562 | Hofn\n",
      "Processing Record 563 | Jaciara\n",
      "Processing Record 564 | At-Bashi\n",
      "Processing Record 565 | Korem\n",
      "Processing Record 566 | Bunog\n",
      "Processing Record 567 | Tubuala\n",
      "Processing Record 568 | Coihaique\n",
      "Processing Record 569 | Tottori\n",
      "Processing Record 570 | Mo I Rana\n",
      "Processing Record 571 | Adre\n",
      "Processing Record 572 | Dunmanway\n",
      "Processing Record 573 | Marsh Harbour\n",
      "Processing Record 574 | Emba\n",
      "Processing Record 575 | Haines Junction\n",
      "Processing Record 576 | Ruthin\n",
      "Processing Record 577 | Bereda\n",
      "Processing Record 578 | Saint-Georges\n",
      "Processing Record 579 | Redlands\n",
      "City not found. Skipping...\n",
      "Processing Record 581 | Lindsay\n",
      "Processing Record 582 | Manavalakurichi\n",
      "Processing Record 583 | Yarmouth\n",
      "Processing Record 584 | Ayagoz\n",
      "Processing Record 585 | Seidu\n",
      "Processing Record 586 | Bilma\n",
      "Processing Record 587 | Mutoko\n",
      "Processing Record 588 | Krasnoselkup\n",
      "Processing Record 589 | Tara\n",
      "Processing Record 590 | Abu Samrah\n",
      "Processing Record 591 | Nichinan\n",
      "Processing Record 592 | Azare\n",
      "Processing Record 593 | Kaeo\n",
      "Processing Record 594 | Tshane\n",
      "Processing Record 595 | Sipoo\n",
      "Processing Record 596 | Villa Maria\n",
      "Processing Record 597 | West Wendover\n"
     ]
    }
   ],
   "source": [
    "# Loop throught the call \n",
    "\n",
    "print(\"Beginning Data Retrieval\")     \n",
    "print(\"-----------------------------\")\n",
    "for city in cities:\n",
    "    response = requests.get(url + city + \"&appid=\" + weather_api_key + \"&units=\" + units).json()\n",
    "    \n",
    "    try:\n",
    "        cloudiness.append(response[\"clouds\"][\"all\"])\n",
    "        country.append(response[\"sys\"][\"country\"])\n",
    "        date.append(response[\"dt\"])\n",
    "        humidity.append(response[\"main\"][\"humidity\"])\n",
    "        lat.append(response[\"coord\"][\"lat\"])\n",
    "        lng.append(response[\"coord\"][\"lon\"])\n",
    "        temp.append(response[\"main\"][\"temp_max\"])\n",
    "        wind_speed.append(response[\"wind\"][\"speed\"])\n",
    "        print(f\"Processing Record {cities.index(city) + 1} | {city.title()}\")\n",
    "    except:\n",
    "        print(\"City not found. Skipping...\")\n",
    "    time.sleep(2)"
   ]
  },
  {
   "cell_type": "markdown",
   "metadata": {},
   "source": [
    "### Convert Raw Data to DataFrame\n"
   ]
  },
  {
   "cell_type": "code",
   "execution_count": 47,
   "metadata": {},
   "outputs": [],
   "source": [
    "# Dependencies to export the information into a .csv\n",
    "import os\n",
    "import csv"
   ]
  },
  {
   "cell_type": "code",
   "execution_count": 248,
   "metadata": {},
   "outputs": [],
   "source": [
    "# Zip the lists\n",
    "raw_data_csv = zip(city_id, cities, cloudiness, country, date, humidity, lat, lng, temp, wind_speed)"
   ]
  },
  {
   "cell_type": "code",
   "execution_count": 249,
   "metadata": {},
   "outputs": [],
   "source": [
    "# Path for the new file\n",
    "output_data_file = os.path.join(\"cities.csv\") "
   ]
  },
  {
   "cell_type": "code",
   "execution_count": 250,
   "metadata": {},
   "outputs": [],
   "source": [
    "# Create a new csv\n",
    "with open(output_data_file, \"w\") as csvfile:\n",
    "    csv_writer = csv.writer(csvfile)\n",
    "    csv_writer.writerow([\"City_ID\",\"City\", \"Cloudiness\", \"Country\", \"Date\", \"Humidity\", \"Lat\",\"Lng\", \"Max Temp\", \"Wind Speed\"])\n",
    "    csv_writer.writerows(raw_data_csv)"
   ]
  },
  {
   "cell_type": "code",
   "execution_count": 251,
   "metadata": {},
   "outputs": [
    {
     "data": {
      "text/html": [
       "<div>\n",
       "<style scoped>\n",
       "    .dataframe tbody tr th:only-of-type {\n",
       "        vertical-align: middle;\n",
       "    }\n",
       "\n",
       "    .dataframe tbody tr th {\n",
       "        vertical-align: top;\n",
       "    }\n",
       "\n",
       "    .dataframe thead th {\n",
       "        text-align: right;\n",
       "    }\n",
       "</style>\n",
       "<table border=\"1\" class=\"dataframe\">\n",
       "  <thead>\n",
       "    <tr style=\"text-align: right;\">\n",
       "      <th></th>\n",
       "      <th>City</th>\n",
       "      <th>Lat</th>\n",
       "      <th>Lng</th>\n",
       "      <th>Max Temp</th>\n",
       "      <th>Humidity</th>\n",
       "      <th>Cloudiness</th>\n",
       "      <th>Wind Speed</th>\n",
       "      <th>Country</th>\n",
       "      <th>Date</th>\n",
       "    </tr>\n",
       "  </thead>\n",
       "  <tbody>\n",
       "    <tr>\n",
       "      <th>0</th>\n",
       "      <td>new norfolk</td>\n",
       "      <td>-42.78</td>\n",
       "      <td>147.06</td>\n",
       "      <td>61.00</td>\n",
       "      <td>65</td>\n",
       "      <td>0</td>\n",
       "      <td>3.00</td>\n",
       "      <td>AU</td>\n",
       "      <td>1602036388</td>\n",
       "    </tr>\n",
       "    <tr>\n",
       "      <th>1</th>\n",
       "      <td>kaniama</td>\n",
       "      <td>-7.57</td>\n",
       "      <td>24.18</td>\n",
       "      <td>68.50</td>\n",
       "      <td>79</td>\n",
       "      <td>4</td>\n",
       "      <td>1.83</td>\n",
       "      <td>CD</td>\n",
       "      <td>1602036390</td>\n",
       "    </tr>\n",
       "    <tr>\n",
       "      <th>2</th>\n",
       "      <td>vestmannaeyjar</td>\n",
       "      <td>63.44</td>\n",
       "      <td>-20.27</td>\n",
       "      <td>43.61</td>\n",
       "      <td>80</td>\n",
       "      <td>100</td>\n",
       "      <td>2.93</td>\n",
       "      <td>IS</td>\n",
       "      <td>1602036392</td>\n",
       "    </tr>\n",
       "    <tr>\n",
       "      <th>3</th>\n",
       "      <td>pacific grove</td>\n",
       "      <td>36.62</td>\n",
       "      <td>-121.92</td>\n",
       "      <td>63.00</td>\n",
       "      <td>87</td>\n",
       "      <td>40</td>\n",
       "      <td>3.67</td>\n",
       "      <td>US</td>\n",
       "      <td>1602036229</td>\n",
       "    </tr>\n",
       "    <tr>\n",
       "      <th>4</th>\n",
       "      <td>barentsburg</td>\n",
       "      <td>43.32</td>\n",
       "      <td>145.57</td>\n",
       "      <td>62.60</td>\n",
       "      <td>59</td>\n",
       "      <td>20</td>\n",
       "      <td>8.05</td>\n",
       "      <td>JP</td>\n",
       "      <td>1602036399</td>\n",
       "    </tr>\n",
       "  </tbody>\n",
       "</table>\n",
       "</div>"
      ],
      "text/plain": [
       "             City    Lat     Lng  Max Temp  Humidity  Cloudiness  Wind Speed  \\\n",
       "0     new norfolk -42.78  147.06     61.00        65           0        3.00   \n",
       "1         kaniama  -7.57   24.18     68.50        79           4        1.83   \n",
       "2  vestmannaeyjar  63.44  -20.27     43.61        80         100        2.93   \n",
       "3   pacific grove  36.62 -121.92     63.00        87          40        3.67   \n",
       "4     barentsburg  43.32  145.57     62.60        59          20        8.05   \n",
       "\n",
       "  Country        Date  \n",
       "0      AU  1602036388  \n",
       "1      CD  1602036390  \n",
       "2      IS  1602036392  \n",
       "3      US  1602036229  \n",
       "4      JP  1602036399  "
      ]
     },
     "execution_count": 251,
     "metadata": {},
     "output_type": "execute_result"
    }
   ],
   "source": [
    "# Read in the cities temperature data\n",
    "cities_temperature_df = pd.read_csv(output_data_file)\n",
    "organized_cities_temperature_df = cities_temperature_df[[\"City\", \"Lat\", \"Lng\", \"Max Temp\", \"Humidity\", \"Cloudiness\", \"Wind Speed\", \"Country\", \"Date\"]]\n",
    "organized_cities_temperature_df.head()"
   ]
  },
  {
   "cell_type": "code",
   "execution_count": 252,
   "metadata": {},
   "outputs": [
    {
     "data": {
      "text/plain": [
       "City          547\n",
       "Lat           547\n",
       "Lng           547\n",
       "Max Temp      547\n",
       "Humidity      547\n",
       "Cloudiness    547\n",
       "Wind Speed    547\n",
       "Country       541\n",
       "Date          547\n",
       "dtype: int64"
      ]
     },
     "execution_count": 252,
     "metadata": {},
     "output_type": "execute_result"
    }
   ],
   "source": [
    "# Check the number of values of the fields\n",
    "organized_cities_temperature_df.count()"
   ]
  },
  {
   "cell_type": "code",
   "execution_count": 253,
   "metadata": {},
   "outputs": [
    {
     "name": "stderr",
     "output_type": "stream",
     "text": [
      "/Users/manuelamunoz/opt/anaconda3/envs/PythonData2/lib/python3.6/site-packages/ipykernel_launcher.py:2: SettingWithCopyWarning: \n",
      "A value is trying to be set on a copy of a slice from a DataFrame\n",
      "\n",
      "See the caveats in the documentation: https://pandas.pydata.org/pandas-docs/stable/user_guide/indexing.html#returning-a-view-versus-a-copy\n",
      "  \n"
     ]
    },
    {
     "data": {
      "text/plain": [
       "City          541\n",
       "Lat           541\n",
       "Lng           541\n",
       "Max Temp      541\n",
       "Humidity      541\n",
       "Cloudiness    541\n",
       "Wind Speed    541\n",
       "Country       541\n",
       "Date          541\n",
       "dtype: int64"
      ]
     },
     "execution_count": 253,
     "metadata": {},
     "output_type": "execute_result"
    }
   ],
   "source": [
    "# Drop the NA values \n",
    "organized_cities_temperature_df.dropna(inplace=True)\n",
    "organized_cities_temperature_df.count()"
   ]
  },
  {
   "cell_type": "code",
   "execution_count": 254,
   "metadata": {},
   "outputs": [
    {
     "data": {
      "text/html": [
       "<div>\n",
       "<style scoped>\n",
       "    .dataframe tbody tr th:only-of-type {\n",
       "        vertical-align: middle;\n",
       "    }\n",
       "\n",
       "    .dataframe tbody tr th {\n",
       "        vertical-align: top;\n",
       "    }\n",
       "\n",
       "    .dataframe thead th {\n",
       "        text-align: right;\n",
       "    }\n",
       "</style>\n",
       "<table border=\"1\" class=\"dataframe\">\n",
       "  <thead>\n",
       "    <tr style=\"text-align: right;\">\n",
       "      <th></th>\n",
       "      <th>Lat</th>\n",
       "      <th>Lng</th>\n",
       "      <th>Max Temp</th>\n",
       "      <th>Humidity</th>\n",
       "      <th>Cloudiness</th>\n",
       "      <th>Wind Speed</th>\n",
       "      <th>Date</th>\n",
       "    </tr>\n",
       "  </thead>\n",
       "  <tbody>\n",
       "    <tr>\n",
       "      <th>count</th>\n",
       "      <td>541.000000</td>\n",
       "      <td>541.000000</td>\n",
       "      <td>541.000000</td>\n",
       "      <td>541.000000</td>\n",
       "      <td>541.000000</td>\n",
       "      <td>541.000000</td>\n",
       "      <td>5.410000e+02</td>\n",
       "    </tr>\n",
       "    <tr>\n",
       "      <th>mean</th>\n",
       "      <td>21.710518</td>\n",
       "      <td>19.942348</td>\n",
       "      <td>61.706580</td>\n",
       "      <td>73.715342</td>\n",
       "      <td>48.639556</td>\n",
       "      <td>7.809409</td>\n",
       "      <td>1.602037e+09</td>\n",
       "    </tr>\n",
       "    <tr>\n",
       "      <th>std</th>\n",
       "      <td>33.218568</td>\n",
       "      <td>91.492197</td>\n",
       "      <td>17.539294</td>\n",
       "      <td>19.722903</td>\n",
       "      <td>39.731849</td>\n",
       "      <td>5.681557</td>\n",
       "      <td>3.795473e+02</td>\n",
       "    </tr>\n",
       "    <tr>\n",
       "      <th>min</th>\n",
       "      <td>-54.800000</td>\n",
       "      <td>-175.200000</td>\n",
       "      <td>12.650000</td>\n",
       "      <td>7.000000</td>\n",
       "      <td>0.000000</td>\n",
       "      <td>0.340000</td>\n",
       "      <td>1.602036e+09</td>\n",
       "    </tr>\n",
       "    <tr>\n",
       "      <th>25%</th>\n",
       "      <td>-5.120000</td>\n",
       "      <td>-60.220000</td>\n",
       "      <td>49.510000</td>\n",
       "      <td>62.000000</td>\n",
       "      <td>4.000000</td>\n",
       "      <td>3.360000</td>\n",
       "      <td>1.602037e+09</td>\n",
       "    </tr>\n",
       "    <tr>\n",
       "      <th>50%</th>\n",
       "      <td>27.150000</td>\n",
       "      <td>25.570000</td>\n",
       "      <td>63.000000</td>\n",
       "      <td>79.000000</td>\n",
       "      <td>41.000000</td>\n",
       "      <td>6.800000</td>\n",
       "      <td>1.602037e+09</td>\n",
       "    </tr>\n",
       "    <tr>\n",
       "      <th>75%</th>\n",
       "      <td>48.920000</td>\n",
       "      <td>102.500000</td>\n",
       "      <td>77.000000</td>\n",
       "      <td>88.000000</td>\n",
       "      <td>90.000000</td>\n",
       "      <td>10.870000</td>\n",
       "      <td>1.602037e+09</td>\n",
       "    </tr>\n",
       "    <tr>\n",
       "      <th>max</th>\n",
       "      <td>78.220000</td>\n",
       "      <td>179.320000</td>\n",
       "      <td>93.200000</td>\n",
       "      <td>100.000000</td>\n",
       "      <td>100.000000</td>\n",
       "      <td>42.840000</td>\n",
       "      <td>1.602038e+09</td>\n",
       "    </tr>\n",
       "  </tbody>\n",
       "</table>\n",
       "</div>"
      ],
      "text/plain": [
       "              Lat         Lng    Max Temp    Humidity  Cloudiness  Wind Speed  \\\n",
       "count  541.000000  541.000000  541.000000  541.000000  541.000000  541.000000   \n",
       "mean    21.710518   19.942348   61.706580   73.715342   48.639556    7.809409   \n",
       "std     33.218568   91.492197   17.539294   19.722903   39.731849    5.681557   \n",
       "min    -54.800000 -175.200000   12.650000    7.000000    0.000000    0.340000   \n",
       "25%     -5.120000  -60.220000   49.510000   62.000000    4.000000    3.360000   \n",
       "50%     27.150000   25.570000   63.000000   79.000000   41.000000    6.800000   \n",
       "75%     48.920000  102.500000   77.000000   88.000000   90.000000   10.870000   \n",
       "max     78.220000  179.320000   93.200000  100.000000  100.000000   42.840000   \n",
       "\n",
       "               Date  \n",
       "count  5.410000e+02  \n",
       "mean   1.602037e+09  \n",
       "std    3.795473e+02  \n",
       "min    1.602036e+09  \n",
       "25%    1.602037e+09  \n",
       "50%    1.602037e+09  \n",
       "75%    1.602037e+09  \n",
       "max    1.602038e+09  "
      ]
     },
     "execution_count": 254,
     "metadata": {},
     "output_type": "execute_result"
    }
   ],
   "source": [
    "# Describe the data frame\n",
    "organized_cities_temperature_df.describe()"
   ]
  },
  {
   "cell_type": "markdown",
   "metadata": {},
   "source": [
    "## Inspect the data and remove the cities where the humidity > 100%.\n",
    "----\n"
   ]
  },
  {
   "cell_type": "code",
   "execution_count": 255,
   "metadata": {},
   "outputs": [
    {
     "data": {
      "text/plain": [
       "Int64Index([  7,  66,  73,  79, 115, 169, 183, 267, 268, 334, 335, 354, 415,\n",
       "            432, 439, 466, 497, 502, 527, 534],\n",
       "           dtype='int64')"
      ]
     },
     "execution_count": 255,
     "metadata": {},
     "output_type": "execute_result"
    }
   ],
   "source": [
    "#  Get the indices of cities that have humidity over 100%.\n",
    "organized_cities_temperature_df.loc[organized_cities_temperature_df[\"Humidity\"]>=100].index"
   ]
  },
  {
   "cell_type": "code",
   "execution_count": 256,
   "metadata": {},
   "outputs": [
    {
     "data": {
      "text/html": [
       "<div>\n",
       "<style scoped>\n",
       "    .dataframe tbody tr th:only-of-type {\n",
       "        vertical-align: middle;\n",
       "    }\n",
       "\n",
       "    .dataframe tbody tr th {\n",
       "        vertical-align: top;\n",
       "    }\n",
       "\n",
       "    .dataframe thead th {\n",
       "        text-align: right;\n",
       "    }\n",
       "</style>\n",
       "<table border=\"1\" class=\"dataframe\">\n",
       "  <thead>\n",
       "    <tr style=\"text-align: right;\">\n",
       "      <th></th>\n",
       "      <th>City</th>\n",
       "      <th>Lat</th>\n",
       "      <th>Lng</th>\n",
       "      <th>Max Temp</th>\n",
       "      <th>Humidity</th>\n",
       "      <th>Cloudiness</th>\n",
       "      <th>Wind Speed</th>\n",
       "      <th>Country</th>\n",
       "      <th>Date</th>\n",
       "    </tr>\n",
       "  </thead>\n",
       "  <tbody>\n",
       "    <tr>\n",
       "      <th>0</th>\n",
       "      <td>new norfolk</td>\n",
       "      <td>-42.78</td>\n",
       "      <td>147.06</td>\n",
       "      <td>61.00</td>\n",
       "      <td>65</td>\n",
       "      <td>0</td>\n",
       "      <td>3.00</td>\n",
       "      <td>AU</td>\n",
       "      <td>1602036388</td>\n",
       "    </tr>\n",
       "    <tr>\n",
       "      <th>1</th>\n",
       "      <td>kaniama</td>\n",
       "      <td>-7.57</td>\n",
       "      <td>24.18</td>\n",
       "      <td>68.50</td>\n",
       "      <td>79</td>\n",
       "      <td>4</td>\n",
       "      <td>1.83</td>\n",
       "      <td>CD</td>\n",
       "      <td>1602036390</td>\n",
       "    </tr>\n",
       "    <tr>\n",
       "      <th>2</th>\n",
       "      <td>vestmannaeyjar</td>\n",
       "      <td>63.44</td>\n",
       "      <td>-20.27</td>\n",
       "      <td>43.61</td>\n",
       "      <td>80</td>\n",
       "      <td>100</td>\n",
       "      <td>2.93</td>\n",
       "      <td>IS</td>\n",
       "      <td>1602036392</td>\n",
       "    </tr>\n",
       "    <tr>\n",
       "      <th>3</th>\n",
       "      <td>pacific grove</td>\n",
       "      <td>36.62</td>\n",
       "      <td>-121.92</td>\n",
       "      <td>63.00</td>\n",
       "      <td>87</td>\n",
       "      <td>40</td>\n",
       "      <td>3.67</td>\n",
       "      <td>US</td>\n",
       "      <td>1602036229</td>\n",
       "    </tr>\n",
       "    <tr>\n",
       "      <th>4</th>\n",
       "      <td>barentsburg</td>\n",
       "      <td>43.32</td>\n",
       "      <td>145.57</td>\n",
       "      <td>62.60</td>\n",
       "      <td>59</td>\n",
       "      <td>20</td>\n",
       "      <td>8.05</td>\n",
       "      <td>JP</td>\n",
       "      <td>1602036399</td>\n",
       "    </tr>\n",
       "  </tbody>\n",
       "</table>\n",
       "</div>"
      ],
      "text/plain": [
       "             City    Lat     Lng  Max Temp  Humidity  Cloudiness  Wind Speed  \\\n",
       "0     new norfolk -42.78  147.06     61.00        65           0        3.00   \n",
       "1         kaniama  -7.57   24.18     68.50        79           4        1.83   \n",
       "2  vestmannaeyjar  63.44  -20.27     43.61        80         100        2.93   \n",
       "3   pacific grove  36.62 -121.92     63.00        87          40        3.67   \n",
       "4     barentsburg  43.32  145.57     62.60        59          20        8.05   \n",
       "\n",
       "  Country        Date  \n",
       "0      AU  1602036388  \n",
       "1      CD  1602036390  \n",
       "2      IS  1602036392  \n",
       "3      US  1602036229  \n",
       "4      JP  1602036399  "
      ]
     },
     "execution_count": 256,
     "metadata": {},
     "output_type": "execute_result"
    }
   ],
   "source": [
    "# Make a new DataFrame equal to the city data to drop all humidity outliers by index.\n",
    "# Passing \"inplace=False\" will make a copy of the city_data DataFrame, which we call \"clean_city_data\".\n",
    "clean_city_data = organized_cities_temperature_df.drop((organized_cities_temperature_df.loc[organized_cities_temperature_df[\"Humidity\"]>=100].index), inplace=False)\n",
    "clean_city_data.head()"
   ]
  },
  {
   "cell_type": "markdown",
   "metadata": {},
   "source": [
    "## Plotting the Data\n"
   ]
  },
  {
   "cell_type": "markdown",
   "metadata": {},
   "source": [
    "## Latitude vs. Temperature Plot"
   ]
  },
  {
   "cell_type": "code",
   "execution_count": 283,
   "metadata": {},
   "outputs": [
    {
     "data": {
      "image/png": "[encoded data removed]",
      "text/plain": [
       "<Figure size 432x288 with 1 Axes>"
      ]
     },
     "metadata": {
      "needs_background": "light"
     },
     "output_type": "display_data"
    }
   ],
   "source": [
    "temperature_plot = organized_cities_temperature_df.plot(kind='scatter', x=\"Lat\", y=\"Max Temp\", marker=\"o\", c=\"darkcyan\", grid=True, s=35, edgecolor = \"black\")\n",
    "temperature_plot.set_ylabel(\"Max Temperature (F)\")\n",
    "temperature_plot.set_xlabel(\"Latitude\")\n",
    "temperature_plot.set_title(\"City Latitude vs. Max Temperature 10/08/2020\")\n",
    "plt.ylim(0, 100)\n",
    "plt.tight_layout()\n",
    "plt.savefig(\"Images/max_temperature.png\")"
   ]
  },
  {
   "cell_type": "markdown",
   "metadata": {},
   "source": [
    "## Latitude vs. Humidity Plot"
   ]
  },
  {
   "cell_type": "code",
   "execution_count": 284,
   "metadata": {},
   "outputs": [
    {
     "data": {
      "image/png": "[encoded data removed]",
      "text/plain": [
       "<Figure size 432x288 with 1 Axes>"
      ]
     },
     "metadata": {
      "needs_background": "light"
     },
     "output_type": "display_data"
    }
   ],
   "source": [
    "humidity_plot = organized_cities_temperature_df.plot(kind='scatter', x=\"Lat\", y=\"Humidity\", marker=\"o\", c=\"darkcyan\", grid=True, s=35, edgecolor = \"black\")\n",
    "humidity_plot.set_ylabel(\"Humidity (%)\")\n",
    "humidity_plot.set_xlabel(\"Latitude\")\n",
    "humidity_plot.set_title(\"City Latitude vs. Humidity 10/08/2020\")\n",
    "plt.ylim(0, 105)\n",
    "plt.tight_layout()\n",
    "plt.savefig(\"Images/humidity.png\")"
   ]
  },
  {
   "cell_type": "markdown",
   "metadata": {},
   "source": [
    "The humidity plot is representing the humidity level on each location of the cities based on the latitude. There is not a defined tendency."
   ]
  },
  {
   "cell_type": "markdown",
   "metadata": {},
   "source": [
    "## Latitude vs. Cloudiness Plot"
   ]
  },
  {
   "cell_type": "code",
   "execution_count": 285,
   "metadata": {},
   "outputs": [
    {
     "data": {
      "image/png": "[encoded data removed]",
      "text/plain": [
       "<Figure size 432x288 with 1 Axes>"
      ]
     },
     "metadata": {
      "needs_background": "light"
     },
     "output_type": "display_data"
    }
   ],
   "source": [
    "cloudiness_plot = organized_cities_temperature_df.plot(kind='scatter', x=\"Lat\", y=\"Cloudiness\", marker=\"o\", c=\"darkcyan\", grid=True, s=35, edgecolor = \"black\")\n",
    "cloudiness_plot.set_ylabel(\"Cloudiness (%)\")\n",
    "cloudiness_plot.set_xlabel(\"Latitude\")\n",
    "cloudiness_plot.set_title(\"City Latitude vs. Cloudiness 10/08/2020\")\n",
    "plt.ylim(-5, 105)\n",
    "plt.tight_layout()\n",
    "plt.savefig(\"Images/cloudiness.png\")"
   ]
  },
  {
   "cell_type": "markdown",
   "metadata": {},
   "source": [
    "The cloudiness plot is representing the cloudiness level on each location of the cities based on the latitude. The plots are distributed around the whole chart area. There is not a defined tendency."
   ]
  },
  {
   "cell_type": "markdown",
   "metadata": {},
   "source": [
    "## Latitude vs. Wind Speed Plot"
   ]
  },
  {
   "cell_type": "code",
   "execution_count": 286,
   "metadata": {},
   "outputs": [
    {
     "data": {
      "image/png": "[encoded data removed]",
      "text/plain": [
       "<Figure size 432x288 with 1 Axes>"
      ]
     },
     "metadata": {
      "needs_background": "light"
     },
     "output_type": "display_data"
    }
   ],
   "source": [
    "wind_plot = organized_cities_temperature_df.plot(kind='scatter', x=\"Lat\", y=\"Wind Speed\", marker=\"o\", c=\"darkcyan\", grid=True, s=35, edgecolor = \"black\")\n",
    "wind_plot.set_ylabel(\"Wind Speed (mph)\")\n",
    "wind_plot.set_xlabel(\"Latitude\")\n",
    "wind_plot.set_title(\"City Latitude vs. Wind Speed 10/08/2020\")\n",
    "plt.ylim(-5, 60)\n",
    "plt.tight_layout()\n",
    "plt.savefig(\"Images/wind_speed.png\")"
   ]
  },
  {
   "cell_type": "markdown",
   "metadata": {},
   "source": [
    "The wind speed plot is representing the wind speed level on each location of the cities based on the latitude. There is a relationship between these two variables. It can be vizualied on elements as:\n",
    " - The information points are concentrated in the same zome\n",
    " - The wind speed dots are in an defined range. "
   ]
  },
  {
   "cell_type": "markdown",
   "metadata": {},
   "source": [
    "## Linear Regression"
   ]
  },
  {
   "cell_type": "code",
   "execution_count": 261,
   "metadata": {},
   "outputs": [
    {
     "data": {
      "text/html": [
       "<div>\n",
       "<style scoped>\n",
       "    .dataframe tbody tr th:only-of-type {\n",
       "        vertical-align: middle;\n",
       "    }\n",
       "\n",
       "    .dataframe tbody tr th {\n",
       "        vertical-align: top;\n",
       "    }\n",
       "\n",
       "    .dataframe thead th {\n",
       "        text-align: right;\n",
       "    }\n",
       "</style>\n",
       "<table border=\"1\" class=\"dataframe\">\n",
       "  <thead>\n",
       "    <tr style=\"text-align: right;\">\n",
       "      <th></th>\n",
       "      <th>Lat</th>\n",
       "      <th>Lng</th>\n",
       "      <th>Max Temp</th>\n",
       "      <th>Humidity</th>\n",
       "      <th>Cloudiness</th>\n",
       "      <th>Wind Speed</th>\n",
       "      <th>Date</th>\n",
       "    </tr>\n",
       "  </thead>\n",
       "  <tbody>\n",
       "    <tr>\n",
       "      <th>count</th>\n",
       "      <td>384.000000</td>\n",
       "      <td>384.000000</td>\n",
       "      <td>384.000000</td>\n",
       "      <td>384.000000</td>\n",
       "      <td>384.000000</td>\n",
       "      <td>384.000000</td>\n",
       "      <td>3.840000e+02</td>\n",
       "    </tr>\n",
       "    <tr>\n",
       "      <th>mean</th>\n",
       "      <td>39.347943</td>\n",
       "      <td>13.501589</td>\n",
       "      <td>58.967370</td>\n",
       "      <td>74.783854</td>\n",
       "      <td>51.403646</td>\n",
       "      <td>7.860964</td>\n",
       "      <td>1.602037e+09</td>\n",
       "    </tr>\n",
       "    <tr>\n",
       "      <th>std</th>\n",
       "      <td>20.038522</td>\n",
       "      <td>88.142647</td>\n",
       "      <td>18.420045</td>\n",
       "      <td>19.825812</td>\n",
       "      <td>40.098783</td>\n",
       "      <td>5.872900</td>\n",
       "      <td>3.734661e+02</td>\n",
       "    </tr>\n",
       "    <tr>\n",
       "      <th>min</th>\n",
       "      <td>0.490000</td>\n",
       "      <td>-173.300000</td>\n",
       "      <td>12.650000</td>\n",
       "      <td>7.000000</td>\n",
       "      <td>0.000000</td>\n",
       "      <td>0.340000</td>\n",
       "      <td>1.602036e+09</td>\n",
       "    </tr>\n",
       "    <tr>\n",
       "      <th>25%</th>\n",
       "      <td>22.652500</td>\n",
       "      <td>-65.877500</td>\n",
       "      <td>45.942500</td>\n",
       "      <td>64.000000</td>\n",
       "      <td>5.000000</td>\n",
       "      <td>3.395000</td>\n",
       "      <td>1.602037e+09</td>\n",
       "    </tr>\n",
       "    <tr>\n",
       "      <th>50%</th>\n",
       "      <td>41.190000</td>\n",
       "      <td>24.960000</td>\n",
       "      <td>59.000000</td>\n",
       "      <td>80.000000</td>\n",
       "      <td>56.000000</td>\n",
       "      <td>6.645000</td>\n",
       "      <td>1.602037e+09</td>\n",
       "    </tr>\n",
       "    <tr>\n",
       "      <th>75%</th>\n",
       "      <td>54.517500</td>\n",
       "      <td>87.090000</td>\n",
       "      <td>76.645000</td>\n",
       "      <td>89.250000</td>\n",
       "      <td>90.000000</td>\n",
       "      <td>10.502500</td>\n",
       "      <td>1.602037e+09</td>\n",
       "    </tr>\n",
       "    <tr>\n",
       "      <th>max</th>\n",
       "      <td>78.220000</td>\n",
       "      <td>179.320000</td>\n",
       "      <td>93.200000</td>\n",
       "      <td>100.000000</td>\n",
       "      <td>100.000000</td>\n",
       "      <td>42.840000</td>\n",
       "      <td>1.602038e+09</td>\n",
       "    </tr>\n",
       "  </tbody>\n",
       "</table>\n",
       "</div>"
      ],
      "text/plain": [
       "              Lat         Lng    Max Temp    Humidity  Cloudiness  Wind Speed  \\\n",
       "count  384.000000  384.000000  384.000000  384.000000  384.000000  384.000000   \n",
       "mean    39.347943   13.501589   58.967370   74.783854   51.403646    7.860964   \n",
       "std     20.038522   88.142647   18.420045   19.825812   40.098783    5.872900   \n",
       "min      0.490000 -173.300000   12.650000    7.000000    0.000000    0.340000   \n",
       "25%     22.652500  -65.877500   45.942500   64.000000    5.000000    3.395000   \n",
       "50%     41.190000   24.960000   59.000000   80.000000   56.000000    6.645000   \n",
       "75%     54.517500   87.090000   76.645000   89.250000   90.000000   10.502500   \n",
       "max     78.220000  179.320000   93.200000  100.000000  100.000000   42.840000   \n",
       "\n",
       "               Date  \n",
       "count  3.840000e+02  \n",
       "mean   1.602037e+09  \n",
       "std    3.734661e+02  \n",
       "min    1.602036e+09  \n",
       "25%    1.602037e+09  \n",
       "50%    1.602037e+09  \n",
       "75%    1.602037e+09  \n",
       "max    1.602038e+09  "
      ]
     },
     "execution_count": 261,
     "metadata": {},
     "output_type": "execute_result"
    }
   ],
   "source": [
    "# Create a data frame base on the Latitud for Northern Hemisphere\n",
    "nh_cities = organized_cities_temperature_df.loc[organized_cities_temperature_df[\"Lat\"]>=0.0]\n",
    "nh_cities.describe()"
   ]
  },
  {
   "cell_type": "code",
   "execution_count": 262,
   "metadata": {},
   "outputs": [],
   "source": [
    "# Define a function for Northern Hemisphere\n",
    "\n",
    "def nh_latitudlr(y_values):\n",
    "    x_values = nh_cities[\"Lat\"]\n",
    "    (slope, intercept, rvalue, pvalue, stderr) = linregress(x_values, y_values)\n",
    "    regress_values = x_values * slope + intercept\n",
    "    line_eq = \"y =\" + str(round(slope,2)) + \"x +\" + str(round(intercept,2))\n",
    "    plt.scatter(x_values, y_values, c=\"royalblue\", edgecolor=\"black\")\n",
    "    plt.plot(x_values, regress_values,\"springgreen\")\n",
    "    plt.xlabel(\"Latitude\")\n",
    "    plt.ylabel(y_values.name)\n",
    "    plt.show()\n",
    "    print(line_eq)\n",
    "    print(f\"The r-value is: {rvalue}\")"
   ]
  },
  {
   "cell_type": "code",
   "execution_count": 263,
   "metadata": {},
   "outputs": [
    {
     "data": {
      "text/html": [
       "<div>\n",
       "<style scoped>\n",
       "    .dataframe tbody tr th:only-of-type {\n",
       "        vertical-align: middle;\n",
       "    }\n",
       "\n",
       "    .dataframe tbody tr th {\n",
       "        vertical-align: top;\n",
       "    }\n",
       "\n",
       "    .dataframe thead th {\n",
       "        text-align: right;\n",
       "    }\n",
       "</style>\n",
       "<table border=\"1\" class=\"dataframe\">\n",
       "  <thead>\n",
       "    <tr style=\"text-align: right;\">\n",
       "      <th></th>\n",
       "      <th>Lat</th>\n",
       "      <th>Lng</th>\n",
       "      <th>Max Temp</th>\n",
       "      <th>Humidity</th>\n",
       "      <th>Cloudiness</th>\n",
       "      <th>Wind Speed</th>\n",
       "      <th>Date</th>\n",
       "    </tr>\n",
       "  </thead>\n",
       "  <tbody>\n",
       "    <tr>\n",
       "      <th>count</th>\n",
       "      <td>157.000000</td>\n",
       "      <td>157.000000</td>\n",
       "      <td>157.000000</td>\n",
       "      <td>157.000000</td>\n",
       "      <td>157.000000</td>\n",
       "      <td>157.000000</td>\n",
       "      <td>1.570000e+02</td>\n",
       "    </tr>\n",
       "    <tr>\n",
       "      <th>mean</th>\n",
       "      <td>-21.428153</td>\n",
       "      <td>35.695541</td>\n",
       "      <td>68.406306</td>\n",
       "      <td>71.101911</td>\n",
       "      <td>41.878981</td>\n",
       "      <td>7.683312</td>\n",
       "      <td>1.602037e+09</td>\n",
       "    </tr>\n",
       "    <tr>\n",
       "      <th>std</th>\n",
       "      <td>13.973932</td>\n",
       "      <td>97.723358</td>\n",
       "      <td>12.969127</td>\n",
       "      <td>19.282377</td>\n",
       "      <td>38.105345</td>\n",
       "      <td>5.199666</td>\n",
       "      <td>3.910067e+02</td>\n",
       "    </tr>\n",
       "    <tr>\n",
       "      <th>min</th>\n",
       "      <td>-54.800000</td>\n",
       "      <td>-175.200000</td>\n",
       "      <td>37.400000</td>\n",
       "      <td>15.000000</td>\n",
       "      <td>0.000000</td>\n",
       "      <td>0.670000</td>\n",
       "      <td>1.602036e+09</td>\n",
       "    </tr>\n",
       "    <tr>\n",
       "      <th>25%</th>\n",
       "      <td>-33.700000</td>\n",
       "      <td>-54.970000</td>\n",
       "      <td>59.110000</td>\n",
       "      <td>59.000000</td>\n",
       "      <td>1.000000</td>\n",
       "      <td>3.360000</td>\n",
       "      <td>1.602037e+09</td>\n",
       "    </tr>\n",
       "    <tr>\n",
       "      <th>50%</th>\n",
       "      <td>-20.520000</td>\n",
       "      <td>26.890000</td>\n",
       "      <td>69.030000</td>\n",
       "      <td>77.000000</td>\n",
       "      <td>40.000000</td>\n",
       "      <td>6.850000</td>\n",
       "      <td>1.602037e+09</td>\n",
       "    </tr>\n",
       "    <tr>\n",
       "      <th>75%</th>\n",
       "      <td>-8.750000</td>\n",
       "      <td>135.870000</td>\n",
       "      <td>77.970000</td>\n",
       "      <td>84.000000</td>\n",
       "      <td>75.000000</td>\n",
       "      <td>11.010000</td>\n",
       "      <td>1.602037e+09</td>\n",
       "    </tr>\n",
       "    <tr>\n",
       "      <th>max</th>\n",
       "      <td>-0.500000</td>\n",
       "      <td>175.520000</td>\n",
       "      <td>90.390000</td>\n",
       "      <td>100.000000</td>\n",
       "      <td>100.000000</td>\n",
       "      <td>23.040000</td>\n",
       "      <td>1.602038e+09</td>\n",
       "    </tr>\n",
       "  </tbody>\n",
       "</table>\n",
       "</div>"
      ],
      "text/plain": [
       "              Lat         Lng    Max Temp    Humidity  Cloudiness  Wind Speed  \\\n",
       "count  157.000000  157.000000  157.000000  157.000000  157.000000  157.000000   \n",
       "mean   -21.428153   35.695541   68.406306   71.101911   41.878981    7.683312   \n",
       "std     13.973932   97.723358   12.969127   19.282377   38.105345    5.199666   \n",
       "min    -54.800000 -175.200000   37.400000   15.000000    0.000000    0.670000   \n",
       "25%    -33.700000  -54.970000   59.110000   59.000000    1.000000    3.360000   \n",
       "50%    -20.520000   26.890000   69.030000   77.000000   40.000000    6.850000   \n",
       "75%     -8.750000  135.870000   77.970000   84.000000   75.000000   11.010000   \n",
       "max     -0.500000  175.520000   90.390000  100.000000  100.000000   23.040000   \n",
       "\n",
       "               Date  \n",
       "count  1.570000e+02  \n",
       "mean   1.602037e+09  \n",
       "std    3.910067e+02  \n",
       "min    1.602036e+09  \n",
       "25%    1.602037e+09  \n",
       "50%    1.602037e+09  \n",
       "75%    1.602037e+09  \n",
       "max    1.602038e+09  "
      ]
     },
     "execution_count": 263,
     "metadata": {},
     "output_type": "execute_result"
    }
   ],
   "source": [
    "# Create a data frame base on the Latitud for Southern Hemisphere\n",
    "sh_cities = organized_cities_temperature_df.loc[organized_cities_temperature_df[\"Lat\"]<0.0]\n",
    "sh_cities.describe()"
   ]
  },
  {
   "cell_type": "code",
   "execution_count": 276,
   "metadata": {},
   "outputs": [],
   "source": [
    "# Define a function for Southern Hemisphere\n",
    "\n",
    "def sh_latitudlr(y_values):\n",
    "    x_values = sh_cities[\"Lat\"]\n",
    "    (slope, intercept, rvalue, pvalue, stderr) = linregress(x_values, y_values)\n",
    "    regress_values = x_values * slope + intercept\n",
    "    line_eq = \"y =\" + str(round(slope,2)) + \"x +\" + str(round(intercept,2))\n",
    "    plt.scatter(x_values, y_values, c=\"royalblue\", edgecolor=\"black\")\n",
    "    plt.plot(x_values, regress_values,\"springgreen\")\n",
    "    plt.xlabel(\"Latitude\")\n",
    "    plt.ylabel(y_values.name)\n",
    "    plt.show()\n",
    "    print(line_eq)\n",
    "    print(f\"The r-value is: {rvalue}\")"
   ]
  },
  {
   "cell_type": "markdown",
   "metadata": {},
   "source": [
    "####  Northern Hemisphere - Max Temp vs. Latitude Linear Regression"
   ]
  },
  {
   "cell_type": "code",
   "execution_count": 274,
   "metadata": {},
   "outputs": [
    {
     "data": {
      "image/png": "[encoded data removed]",
      "text/plain": [
       "<Figure size 432x288 with 1 Axes>"
      ]
     },
     "metadata": {
      "needs_background": "light"
     },
     "output_type": "display_data"
    },
    {
     "name": "stdout",
     "output_type": "stream",
     "text": [
      "y =-0.79x +90.0\n",
      "The r-value is: -0.857913423106508\n"
     ]
    }
   ],
   "source": [
    "nh_latitudlr(nh_cities[\"Max Temp\"])"
   ]
  },
  {
   "cell_type": "markdown",
   "metadata": {},
   "source": [
    "*According to the r-value, higher than 0.5, the relationship between the temperature and the latitude in the Northern Hemisphere is strong. Also, this relationship is negative (-0,85). As latitude increases or gets away from 0, the temperature decreases.*"
   ]
  },
  {
   "cell_type": "markdown",
   "metadata": {},
   "source": [
    "####  Southern Hemisphere - Max Temp vs. Latitude Linear Regression"
   ]
  },
  {
   "cell_type": "code",
   "execution_count": 277,
   "metadata": {},
   "outputs": [
    {
     "data": {
      "image/png": "[encoded data removed]",
      "text/plain": [
       "<Figure size 432x288 with 1 Axes>"
      ]
     },
     "metadata": {
      "needs_background": "light"
     },
     "output_type": "display_data"
    },
    {
     "name": "stdout",
     "output_type": "stream",
     "text": [
      "y =0.72x +83.83\n",
      "The r-value is: 0.775643983006083\n"
     ]
    }
   ],
   "source": [
    "sh_latitudlr(sh_cities[\"Max Temp\"])"
   ]
  },
  {
   "cell_type": "markdown",
   "metadata": {},
   "source": [
    "*According to the r-value, higher than 0.5, the relationship between the temperature and the latitude in the Southern Hemisphere is strong. Also, this relationship is positive(0,77). As latitude increases or gets close to 0, the temperature increases.*"
   ]
  },
  {
   "cell_type": "markdown",
   "metadata": {},
   "source": [
    "####  Northern Hemisphere - Humidity (%) vs. Latitude Linear Regression"
   ]
  },
  {
   "cell_type": "code",
   "execution_count": 267,
   "metadata": {},
   "outputs": [
    {
     "data": {
      "image/png": "[encoded data removed]",
      "text/plain": [
       "<Figure size 432x288 with 1 Axes>"
      ]
     },
     "metadata": {
      "needs_background": "light"
     },
     "output_type": "display_data"
    },
    {
     "name": "stdout",
     "output_type": "stream",
     "text": [
      "y =0.13x +69.53\n",
      "The r-value is: 0.13495115577502326\n"
     ]
    }
   ],
   "source": [
    "nh_latitudlr(nh_cities[\"Humidity\"])"
   ]
  },
  {
   "cell_type": "markdown",
   "metadata": {},
   "source": [
    "*According to the r-value, less than 0.5; the relationship between the humidity and the latitude in the Northern Hemisphere is weak. It means that the latitude does not have a high impact on the humidity level in the cities. Also, this relationship is positive(0,13). As latitude increases or gets away from 0, the humidity increase.*"
   ]
  },
  {
   "cell_type": "markdown",
   "metadata": {},
   "source": [
    "####  Southern Hemisphere - Humidity (%) vs. Latitude Linear Regression"
   ]
  },
  {
   "cell_type": "code",
   "execution_count": 268,
   "metadata": {},
   "outputs": [
    {
     "data": {
      "image/png": "[encoded data removed]",
      "text/plain": [
       "<Figure size 432x288 with 1 Axes>"
      ]
     },
     "metadata": {
      "needs_background": "light"
     },
     "output_type": "display_data"
    },
    {
     "name": "stdout",
     "output_type": "stream",
     "text": [
      "y =-0.08x +69.48\n",
      "The r-value is: -0.055002691587626135\n"
     ]
    }
   ],
   "source": [
    "sh_latitudlr(sh_cities[\"Humidity\"])"
   ]
  },
  {
   "cell_type": "markdown",
   "metadata": {},
   "source": [
    "*According to the r-value, less than 0.1; there is almost a nonexisting relationship between the humidity and the latitude in the Southern Hemisphere. It means that the latitude does not impact the humidity level in the cities located on that side of the earth.*"
   ]
  },
  {
   "cell_type": "markdown",
   "metadata": {},
   "source": [
    "####  Northern Hemisphere - Cloudiness (%) vs. Latitude Linear Regression"
   ]
  },
  {
   "cell_type": "code",
   "execution_count": 269,
   "metadata": {},
   "outputs": [
    {
     "data": {
      "image/png": "[encoded data removed]",
      "text/plain": [
       "<Figure size 432x288 with 1 Axes>"
      ]
     },
     "metadata": {
      "needs_background": "light"
     },
     "output_type": "display_data"
    },
    {
     "name": "stdout",
     "output_type": "stream",
     "text": [
      "y =0.17x +44.55\n",
      "The r-value is: 0.08704821179362508\n"
     ]
    }
   ],
   "source": [
    "nh_latitudlr(nh_cities[\"Cloudiness\"])"
   ]
  },
  {
   "cell_type": "markdown",
   "metadata": {},
   "source": [
    "*According to the r-value, less than 0.1; the relationship between the cloudiness and the latitude in the Northern Hemisphere is weak. It means that the latitude does not have a high impact on the cloudiness level in the cities. Also, this relationship is positive(0,08). As latitude increases or gets away from 0, the cloudiness increase.*"
   ]
  },
  {
   "cell_type": "markdown",
   "metadata": {},
   "source": [
    "####  Southern Hemisphere - Cloudiness (%) vs. Latitude Linear Regression"
   ]
  },
  {
   "cell_type": "code",
   "execution_count": 270,
   "metadata": {},
   "outputs": [
    {
     "data": {
      "image/png": "[encoded data removed]",
      "text/plain": [
       "<Figure size 432x288 with 1 Axes>"
      ]
     },
     "metadata": {
      "needs_background": "light"
     },
     "output_type": "display_data"
    },
    {
     "name": "stdout",
     "output_type": "stream",
     "text": [
      "y =0.08x +43.5\n",
      "The r-value is: 0.027776395853672076\n"
     ]
    }
   ],
   "source": [
    "sh_latitudlr(sh_cities[\"Cloudiness\"])"
   ]
  },
  {
   "cell_type": "markdown",
   "metadata": {},
   "source": [
    "*According to the r-value, less than 0.1; there is almost a nonexisting relationship between the cloudiness and the latitude in the Southern Hemisphere. It means that the latitude does not impact the cloudiness level in the cities located on that side of the earth.*"
   ]
  },
  {
   "cell_type": "markdown",
   "metadata": {},
   "source": [
    "####  Northern Hemisphere - Wind Speed (mph) vs. Latitude Linear Regression"
   ]
  },
  {
   "cell_type": "code",
   "execution_count": 271,
   "metadata": {},
   "outputs": [
    {
     "data": {
      "image/png": "[encoded data removed]",
      "text/plain": [
       "<Figure size 432x288 with 1 Axes>"
      ]
     },
     "metadata": {
      "needs_background": "light"
     },
     "output_type": "display_data"
    },
    {
     "name": "stdout",
     "output_type": "stream",
     "text": [
      "y =0.07x +5.3\n",
      "The r-value is: 0.22249572300055578\n"
     ]
    }
   ],
   "source": [
    "nh_latitudlr(nh_cities[\"Wind Speed\"])"
   ]
  },
  {
   "cell_type": "markdown",
   "metadata": {},
   "source": [
    "According to the r-value, less than 0.3; the relationship between the wind speed and the latitude in the Northern Hemisphere is weak. It means that the latitude does not have a high impact on the wind speed level in the cities. Also, this relationship is positive(0,22). As latitude increases or gets away from 0, the wind speed increases."
   ]
  },
  {
   "cell_type": "markdown",
   "metadata": {},
   "source": [
    "####  Southern Hemisphere - Wind Speed (mph) vs. Latitude Linear Regression"
   ]
  },
  {
   "cell_type": "code",
   "execution_count": 272,
   "metadata": {},
   "outputs": [
    {
     "data": {
      "image/png": "[encoded data removed]",
      "text/plain": [
       "<Figure size 432x288 with 1 Axes>"
      ]
     },
     "metadata": {
      "needs_background": "light"
     },
     "output_type": "display_data"
    },
    {
     "name": "stdout",
     "output_type": "stream",
     "text": [
      "y =-0.06x +6.43\n",
      "The r-value is: -0.15756876837901132\n"
     ]
    }
   ],
   "source": [
    "sh_latitudlr(sh_cities[\"Wind Speed\"])"
   ]
  },
  {
   "cell_type": "markdown",
   "metadata": {},
   "source": [
    "*According to the r-value, less than 0.3; there is almost a weak relationship between the wind speed and the latitude in the Southern Hemisphere. It means that the latitude does not highly impact the wind speed level in the cities located on that side of the earth.*"
   ]
  },
  {
   "cell_type": "markdown",
   "metadata": {},
   "source": [
    "## Conclusions\n",
    "\n",
    "1. The value of the latitude is a crucial fact to determine the temperature of a city. However, it does not interfere    with other aspects of the weather: cloudiness, humidity, wind speed, etc. \n",
    "\n",
    "\n",
    "2. It is essential to split the data set into two groups, Northern Hemisphere and  Southern Hemisphere, to better        understand the data and the relation of the different variables with others since they interact differently based      on their side of the earth where the cities are located. \n",
    "\n",
    "\n",
    "3. The central tendency measures are not optimum to describe the data, since there is a large variability in the          information. This fact also is reflected in the considerable value of the standard deviation for this dataset. "
   ]
  },
  {
   "cell_type": "code",
   "execution_count": null,
   "metadata": {},
   "outputs": [],
   "source": []
  }
 ],
 "metadata": {
  "anaconda-cloud": {},
  "kernel_info": {
   "name": "python3"
  },
  "kernelspec": {
   "display_name": "Python [conda env:PythonData2] *",
   "language": "python",
   "name": "conda-env-PythonData2-py"
  },
  "language_info": {
   "codemirror_mode": {
    "name": "ipython",
    "version": 3
   },
   "file_extension": ".py",
   "mimetype": "text/x-python",
   "name": "python",
   "nbconvert_exporter": "python",
   "pygments_lexer": "ipython3",
   "version": "3.6.10"
  },
  "latex_envs": {
   "LaTeX_envs_menu_present": true,
   "autoclose": false,
   "autocomplete": true,
   "bibliofile": "biblio.bib",
   "cite_by": "apalike",
   "current_citInitial": 1,
   "eqLabelWithNumbers": true,
   "eqNumInitial": 1,
   "hotkeys": {
    "equation": "Ctrl-E",
    "itemize": "Ctrl-I"
   },
   "labels_anchors": false,
   "latex_user_defs": false,
   "report_style_numbering": false,
   "user_envs_cfg": false
  },
  "nteract": {
   "version": "0.12.3"
  }
 },
 "nbformat": 4,
 "nbformat_minor": 2
}
